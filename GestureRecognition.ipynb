{
  "cells": [
    {
      "cell_type": "markdown",
      "metadata": {
        "id": "Jz9i0lcclPdB"
      },
      "source": [
        "# Gesture Recognition\n",
        "In this group project, you are going to build a 3D Conv model that will be able to predict the 5 gestures correctly. Please import the following libraries to get started."
      ]
    },
    {
      "cell_type": "code",
      "execution_count": 2,
      "metadata": {
        "colab": {
          "base_uri": "https://localhost:8080/"
        },
        "id": "S7fpZ9GymyJO",
        "outputId": "8fa73afa-8eb1-4982-cf6e-24939dae267c"
      },
      "outputs": [
        {
          "output_type": "stream",
          "name": "stdout",
          "text": [
            "Requirement already satisfied: imageio in /usr/local/lib/python3.10/dist-packages (2.31.6)\n",
            "Requirement already satisfied: numpy in /usr/local/lib/python3.10/dist-packages (from imageio) (1.25.2)\n",
            "Requirement already satisfied: pillow<10.1.0,>=8.3.2 in /usr/local/lib/python3.10/dist-packages (from imageio) (9.4.0)\n"
          ]
        }
      ],
      "source": [
        "pip install imageio\n"
      ]
    },
    {
      "cell_type": "code",
      "execution_count": 3,
      "metadata": {
        "colab": {
          "base_uri": "https://localhost:8080/"
        },
        "id": "2TmLsQAnnAbz",
        "outputId": "fec24120-902e-44c4-eecc-1d2bf2c57799"
      },
      "outputs": [
        {
          "output_type": "stream",
          "name": "stdout",
          "text": [
            "Requirement already satisfied: matplotlib in /usr/local/lib/python3.10/dist-packages (3.7.1)\n",
            "Requirement already satisfied: contourpy>=1.0.1 in /usr/local/lib/python3.10/dist-packages (from matplotlib) (1.2.0)\n",
            "Requirement already satisfied: cycler>=0.10 in /usr/local/lib/python3.10/dist-packages (from matplotlib) (0.12.1)\n",
            "Requirement already satisfied: fonttools>=4.22.0 in /usr/local/lib/python3.10/dist-packages (from matplotlib) (4.50.0)\n",
            "Requirement already satisfied: kiwisolver>=1.0.1 in /usr/local/lib/python3.10/dist-packages (from matplotlib) (1.4.5)\n",
            "Requirement already satisfied: numpy>=1.20 in /usr/local/lib/python3.10/dist-packages (from matplotlib) (1.25.2)\n",
            "Requirement already satisfied: packaging>=20.0 in /usr/local/lib/python3.10/dist-packages (from matplotlib) (24.0)\n",
            "Requirement already satisfied: pillow>=6.2.0 in /usr/local/lib/python3.10/dist-packages (from matplotlib) (9.4.0)\n",
            "Requirement already satisfied: pyparsing>=2.3.1 in /usr/local/lib/python3.10/dist-packages (from matplotlib) (3.1.2)\n",
            "Requirement already satisfied: python-dateutil>=2.7 in /usr/local/lib/python3.10/dist-packages (from matplotlib) (2.8.2)\n",
            "Requirement already satisfied: six>=1.5 in /usr/local/lib/python3.10/dist-packages (from python-dateutil>=2.7->matplotlib) (1.16.0)\n"
          ]
        }
      ],
      "source": [
        "pip install matplotlib\n"
      ]
    },
    {
      "cell_type": "code",
      "execution_count": 4,
      "metadata": {
        "id": "IZMJp5B1lPdD"
      },
      "outputs": [],
      "source": [
        "#import numpy as np\n",
        "#import os\n",
        "#from scipy.misc import imread, imresize\n",
        "#import datetime\n",
        "#import os\n",
        "import numpy as np\n",
        "import os\n",
        "from imageio import imread  # or use matplotlib.image.imread\n",
        "import datetime\n",
        "import os\n"
      ]
    },
    {
      "cell_type": "markdown",
      "metadata": {
        "id": "hUUZZGj9lPdE"
      },
      "source": [
        "We set the random seed so that the results don't vary drastically."
      ]
    },
    {
      "cell_type": "code",
      "execution_count": 5,
      "metadata": {
        "id": "V1VPni4qlPdE"
      },
      "outputs": [],
      "source": [
        "np.random.seed(30)\n",
        "import random as rn\n",
        "rn.seed(30)\n",
        "from keras import backend as K\n",
        "import tensorflow as tf\n",
        "tf.random.set_seed(30)"
      ]
    },
    {
      "cell_type": "code",
      "execution_count": 6,
      "metadata": {
        "colab": {
          "base_uri": "https://localhost:8080/"
        },
        "id": "sqhDzWJMoB3W",
        "outputId": "0d9de833-61ef-467d-da92-5ed58c1508b8"
      },
      "outputs": [
        {
          "output_type": "stream",
          "name": "stdout",
          "text": [
            "Mounted at /content/drive\n"
          ]
        }
      ],
      "source": [
        "from google.colab import drive\n",
        "\n",
        "# Mount Google Drive\n",
        "drive.mount('/content/drive')\n"
      ]
    },
    {
      "cell_type": "markdown",
      "metadata": {
        "id": "zco9OadrlPdE"
      },
      "source": [
        "In this block, you read the folder names for training and validation. You also set the `batch_size` here. Note that you set the batch size in such a way that you are able to use the GPU in full capacity. You keep increasing the batch size until the machine throws an error."
      ]
    },
    {
      "cell_type": "code",
      "execution_count": 7,
      "metadata": {
        "id": "w7j8qyvSlPdE"
      },
      "outputs": [],
      "source": [
        "train_doc = np.random.permutation(open('/content/drive/MyDrive/Project_data/train.csv').readlines())\n",
        "val_doc = np.random.permutation(open('/content/drive/MyDrive/Project_data/val.csv').readlines())\n",
        "batch_size = 19"
      ]
    },
    {
      "cell_type": "markdown",
      "metadata": {
        "id": "J4FmNxYmlPdE"
      },
      "source": [
        "## Generator\n",
        "This is one of the most important part of the code. The overall structure of the generator has been given. In the generator, you are going to preprocess the images as you have images of 2 different dimensions as well as create a batch of video frames. You have to experiment with `img_idx`, `y`,`z` and normalization such that you get high accuracy."
      ]
    },
    {
      "cell_type": "code",
      "execution_count": 8,
      "metadata": {
        "id": "sUMh96NJlPdE"
      },
      "outputs": [],
      "source": [
        "from skimage.io import imread\n",
        "import numpy as np\n",
        "import os\n",
        "from skimage.transform import resize\n",
        "\n",
        "def generator(source_path, folder_list, batch_size):\n",
        "    print('Source path = ', source_path, '; batch size =', batch_size)\n",
        "    img_idx = [i for i in range(30)]  # Example: Creating a list of image numbers (assuming 30 images per video)\n",
        "    while True:\n",
        "        t = np.random.permutation(folder_list)\n",
        "        num_batches = len(folder_list) // batch_size  # calculate the number of batches\n",
        "        for batch in range(num_batches):  # iterate over the number of batches\n",
        "            batch_data = np.zeros((batch_size, 30, 120, 120, 3))  # initialize batch_data\n",
        "            batch_labels = np.zeros((batch_size, 5))  # initialize batch_labels\n",
        "            for folder in range(batch_size):  # iterate over the batch_size\n",
        "                folder_path = os.path.join(source_path, t[folder + (batch*batch_size)].split(';')[0])\n",
        "                imgs = os.listdir(folder_path)\n",
        "                # Ensure there are enough images, otherwise skip or handle differently\n",
        "                if len(imgs) < len(img_idx):\n",
        "                    print(f\"Not enough images in {folder_path}. Expected: {len(img_idx)}, Found: {len(imgs)}\")\n",
        "                    continue\n",
        "                for idx, item in enumerate(img_idx):  # iterate over the frames/images of a folder to read them in\n",
        "                    try:\n",
        "                        image_path = os.path.join(folder_path, imgs[item])\n",
        "                        image = imread(image_path).astype(np.float32)\n",
        "                        # Crop and resize the image here if necessary\n",
        "                        image_resized = resize(image, (120, 120), anti_aliasing=True)\n",
        "                        # Normalize and feed in the image\n",
        "                        for c in range(3):  # Iterate over channels\n",
        "                            batch_data[folder, idx, :, :, c] = (image_resized[:, :, c] - np.mean(image_resized[:, :, c])) / np.std(image_resized[:, :, c])\n",
        "                    except Exception as e:\n",
        "                        print(f\"Error loading image: {image_path}, error: {e}\")\n",
        "                        # Handle the error or use a placeholder image\n",
        "\n",
        "                batch_labels[folder, int(t[folder + (batch*batch_size)].split(';')[2])] = 1  # set the corresponding label\n",
        "            yield batch_data, batch_labels  # yield the batch_data and the batch_labels\n",
        "\n",
        "        # Handle the last batch if it's smaller than batch_size\n",
        "        rem = len(folder_list) % batch_size\n",
        "        if rem != 0:\n",
        "            batch_data = np.zeros((rem, 30, 120, 120, 3))\n",
        "            batch_labels = np.zeros((rem, 5))\n",
        "            for folder in range(rem):\n",
        "                folder_path = os.path.join(source_path, t[folder + (num_batches*batch_size)].split(';')[0])\n",
        "                imgs = os.listdir(folder_path)\n",
        "                if len(imgs) < len(img_idx):\n",
        "                    print(f\"Not enough images in {folder_path}. Expected: {len(img_idx)}, Found: {len(imgs)}\")\n",
        "                    continue\n",
        "                for idx, item in enumerate(img_idx):\n",
        "                    try:\n",
        "                        image_path = os.path.join(folder_path, imgs[item])\n",
        "                        image = imread(image_path).astype(np.float32)\n",
        "                        image_resized = resize(image, (120, 120), anti_aliasing=True)\n",
        "                        for c in range(3):\n",
        "                            batch_data[folder, idx, :, :, c] = (image_resized[:, :, c] - np.mean(image_resized[:, :, c])) / np.std(image_resized[:, :, c])\n",
        "                    except Exception as e:\n",
        "                        print(f\"Error loading image: {image_path}, error: {e}\")\n",
        "                        # Handle the error or use a placeholder image\n",
        "\n",
        "                batch_labels[folder, int(t[folder + (num_batches*batch_size)].split(';')[2])] = 1\n",
        "            yield batch_data, batch_labels\n"
      ]
    },
    {
      "cell_type": "markdown",
      "metadata": {
        "id": "Q3mQXsmilPdE"
      },
      "source": [
        "Note here that a video is represented above in the generator as (number of images, height, width, number of channels). Take this into consideration while creating the model architecture."
      ]
    },
    {
      "cell_type": "code",
      "execution_count": 9,
      "metadata": {
        "colab": {
          "base_uri": "https://localhost:8080/"
        },
        "id": "cR52xfqDlPdF",
        "outputId": "e950f76b-3de1-4e30-8559-a53027446057"
      },
      "outputs": [
        {
          "output_type": "stream",
          "name": "stdout",
          "text": [
            "# training sequences = 663\n",
            "# validation sequences = 100\n",
            "# epochs = 20\n"
          ]
        }
      ],
      "source": [
        "curr_dt_time = datetime.datetime.now()\n",
        "train_path = '/content/drive/MyDrive/Project_data/train'\n",
        "val_path = '/content/drive/MyDrive/Project_data/val'\n",
        "num_train_sequences = len(train_doc)\n",
        "print('# training sequences =', num_train_sequences)\n",
        "num_val_sequences = len(val_doc)\n",
        "print('# validation sequences =', num_val_sequences)\n",
        "num_epochs = 20\n",
        "print ('# epochs =', num_epochs)"
      ]
    },
    {
      "cell_type": "markdown",
      "metadata": {
        "id": "LoY-okdglPdF"
      },
      "source": [
        "## Model\n",
        "Here you make the model using different functionalities that Keras provides. Remember to use `Conv3D` and `MaxPooling3D` and not `Conv2D` and `Maxpooling2D` for a 3D convolution model. You would want to use `TimeDistributed` while building a Conv2D + RNN model. Also remember that the last layer is the softmax. Design the network in such a way that the model is able to give good accuracy on the least number of parameters so that it can fit in the memory of the webcam."
      ]
    },
    {
      "cell_type": "code",
      "execution_count": 10,
      "metadata": {
        "id": "S2Ha3Jm59ntu"
      },
      "outputs": [],
      "source": [
        "from tensorflow.keras.models import Sequential\n",
        "from tensorflow.keras.layers import Dense, GRU, Flatten, TimeDistributed, BatchNormalization, Activation\n",
        "from tensorflow.keras.layers import Conv3D, MaxPooling3D\n",
        "from tensorflow.keras.callbacks import ModelCheckpoint, ReduceLROnPlateau\n",
        "\n"
      ]
    },
    {
      "cell_type": "code",
      "execution_count": 11,
      "metadata": {
        "colab": {
          "base_uri": "https://localhost:8080/"
        },
        "id": "WaOqinOG9p9T",
        "outputId": "4e1daf3e-dd38-4353-edbe-65885e4987e7"
      },
      "outputs": [
        {
          "output_type": "stream",
          "name": "stdout",
          "text": [
            "Requirement already satisfied: keras in /usr/local/lib/python3.10/dist-packages (2.15.0)\n"
          ]
        }
      ],
      "source": [
        "pip install keras\n"
      ]
    },
    {
      "cell_type": "code",
      "execution_count": 13,
      "metadata": {
        "id": "Mx91P2BFhL48"
      },
      "outputs": [],
      "source": [
        "from tensorflow.keras.models import Sequential\n",
        "from tensorflow.keras.layers import Dense, GRU, Flatten, TimeDistributed, BatchNormalization, Activation\n",
        "from tensorflow.keras.layers import Conv3D, MaxPooling3D\n",
        "from tensorflow.keras.callbacks import ModelCheckpoint, ReduceLROnPlateau\n",
        "from tensorflow.keras import optimizers\n",
        "\n"
      ]
    },
    {
      "cell_type": "code",
      "execution_count": 14,
      "metadata": {
        "colab": {
          "base_uri": "https://localhost:8080/"
        },
        "id": "Ch7ocw0mlPdF",
        "outputId": "3a1677de-13be-4bd4-cbbb-ccd0f12a09c1"
      },
      "outputs": [
        {
          "output_type": "stream",
          "name": "stdout",
          "text": [
            "Model: \"sequential\"\n",
            "_________________________________________________________________\n",
            " Layer (type)                Output Shape              Param #   \n",
            "=================================================================\n",
            " conv3d (Conv3D)             (None, 30, 120, 120, 32   2624      \n",
            "                             )                                   \n",
            "                                                                 \n",
            " activation (Activation)     (None, 30, 120, 120, 32   0         \n",
            "                             )                                   \n",
            "                                                                 \n",
            " batch_normalization (Batch  (None, 30, 120, 120, 32   128       \n",
            " Normalization)              )                                   \n",
            "                                                                 \n",
            " max_pooling3d (MaxPooling3  (None, 15, 60, 60, 32)    0         \n",
            " D)                                                              \n",
            "                                                                 \n",
            " conv3d_1 (Conv3D)           (None, 15, 60, 60, 64)    55360     \n",
            "                                                                 \n",
            " activation_1 (Activation)   (None, 15, 60, 60, 64)    0         \n",
            "                                                                 \n",
            " batch_normalization_1 (Bat  (None, 15, 60, 60, 64)    256       \n",
            " chNormalization)                                                \n",
            "                                                                 \n",
            " max_pooling3d_1 (MaxPoolin  (None, 7, 30, 30, 64)     0         \n",
            " g3D)                                                            \n",
            "                                                                 \n",
            " conv3d_2 (Conv3D)           (None, 7, 30, 30, 128)    221312    \n",
            "                                                                 \n",
            " activation_2 (Activation)   (None, 7, 30, 30, 128)    0         \n",
            "                                                                 \n",
            " batch_normalization_2 (Bat  (None, 7, 30, 30, 128)    512       \n",
            " chNormalization)                                                \n",
            "                                                                 \n",
            " max_pooling3d_2 (MaxPoolin  (None, 3, 15, 15, 128)    0         \n",
            " g3D)                                                            \n",
            "                                                                 \n",
            " time_distributed (TimeDist  (None, 3, 28800)          0         \n",
            " ributed)                                                        \n",
            "                                                                 \n",
            " gru (GRU)                   (None, 128)               11109120  \n",
            "                                                                 \n",
            " dense (Dense)               (None, 64)                8256      \n",
            "                                                                 \n",
            " dense_1 (Dense)             (None, 5)                 325       \n",
            "                                                                 \n",
            "=================================================================\n",
            "Total params: 11397893 (43.48 MB)\n",
            "Trainable params: 11397445 (43.48 MB)\n",
            "Non-trainable params: 448 (1.75 KB)\n",
            "_________________________________________________________________\n"
          ]
        }
      ],
      "source": [
        "from tensorflow.keras.models import Sequential\n",
        "from tensorflow.keras.layers import Dense, GRU, Flatten, TimeDistributed, BatchNormalization, Activation\n",
        "from tensorflow.keras.layers import Conv3D, MaxPooling3D\n",
        "from tensorflow.keras.callbacks import ModelCheckpoint, ReduceLROnPlateau\n",
        "from tensorflow.keras import optimizers\n",
        "\n",
        "def conv3d_model(input_shape=(30, 120, 120, 3), num_classes=5):\n",
        "    model = Sequential()\n",
        "\n",
        "    # First convolutional layer\n",
        "    model.add(Conv3D(32, kernel_size=(3, 3, 3), input_shape=input_shape, padding='same'))\n",
        "    model.add(Activation('relu'))\n",
        "    model.add(BatchNormalization())\n",
        "    model.add(MaxPooling3D(pool_size=(2, 2, 2)))\n",
        "\n",
        "    # Second convolutional layer\n",
        "    model.add(Conv3D(64, kernel_size=(3, 3, 3), padding='same'))\n",
        "    model.add(Activation('relu'))\n",
        "    model.add(BatchNormalization())\n",
        "    model.add(MaxPooling3D(pool_size=(2, 2, 2)))\n",
        "\n",
        "    # Third convolutional layer\n",
        "    model.add(Conv3D(128, kernel_size=(3, 3, 3), padding='same'))\n",
        "    model.add(Activation('relu'))\n",
        "    model.add(BatchNormalization())\n",
        "    model.add(MaxPooling3D(pool_size=(2, 2, 2)))\n",
        "\n",
        "    # Flatten layer to feed into GRU\n",
        "    model.add(TimeDistributed(Flatten()))\n",
        "\n",
        "    # GRU layer\n",
        "    model.add(GRU(128, return_sequences=False))\n",
        "\n",
        "    # Fully connected layers\n",
        "    model.add(Dense(64, activation='relu'))\n",
        "    model.add(Dense(num_classes, activation='softmax'))\n",
        "\n",
        "    return model\n",
        "\n",
        "# Define model\n",
        "model = conv3d_model()\n",
        "\n",
        "# Compile model\n",
        "optimizer = optimizers.Adam(learning_rate=0.001)  # Updated from 'lr' to 'learning_rate'\n",
        "model.compile(optimizer=optimizer, loss='categorical_crossentropy', metrics=['accuracy'])\n",
        "\n",
        "# Print model summary\n",
        "model.summary()\n"
      ]
    },
    {
      "cell_type": "markdown",
      "metadata": {
        "id": "kjSGMMDjlPdF"
      },
      "source": [
        "Now that you have written the model, the next step is to `compile` the model. When you print the `summary` of the model, you'll see the total number of parameters you have to train."
      ]
    },
    {
      "cell_type": "code",
      "execution_count": 15,
      "metadata": {
        "colab": {
          "base_uri": "https://localhost:8080/"
        },
        "id": "6tr3lYr4lPdF",
        "outputId": "cdc4e2e8-bd44-4e77-bd24-8c96521640d2",
        "scrolled": true
      },
      "outputs": [
        {
          "output_type": "stream",
          "name": "stdout",
          "text": [
            "Model: \"sequential\"\n",
            "_________________________________________________________________\n",
            " Layer (type)                Output Shape              Param #   \n",
            "=================================================================\n",
            " conv3d (Conv3D)             (None, 30, 120, 120, 32   2624      \n",
            "                             )                                   \n",
            "                                                                 \n",
            " activation (Activation)     (None, 30, 120, 120, 32   0         \n",
            "                             )                                   \n",
            "                                                                 \n",
            " batch_normalization (Batch  (None, 30, 120, 120, 32   128       \n",
            " Normalization)              )                                   \n",
            "                                                                 \n",
            " max_pooling3d (MaxPooling3  (None, 15, 60, 60, 32)    0         \n",
            " D)                                                              \n",
            "                                                                 \n",
            " conv3d_1 (Conv3D)           (None, 15, 60, 60, 64)    55360     \n",
            "                                                                 \n",
            " activation_1 (Activation)   (None, 15, 60, 60, 64)    0         \n",
            "                                                                 \n",
            " batch_normalization_1 (Bat  (None, 15, 60, 60, 64)    256       \n",
            " chNormalization)                                                \n",
            "                                                                 \n",
            " max_pooling3d_1 (MaxPoolin  (None, 7, 30, 30, 64)     0         \n",
            " g3D)                                                            \n",
            "                                                                 \n",
            " conv3d_2 (Conv3D)           (None, 7, 30, 30, 128)    221312    \n",
            "                                                                 \n",
            " activation_2 (Activation)   (None, 7, 30, 30, 128)    0         \n",
            "                                                                 \n",
            " batch_normalization_2 (Bat  (None, 7, 30, 30, 128)    512       \n",
            " chNormalization)                                                \n",
            "                                                                 \n",
            " max_pooling3d_2 (MaxPoolin  (None, 3, 15, 15, 128)    0         \n",
            " g3D)                                                            \n",
            "                                                                 \n",
            " time_distributed (TimeDist  (None, 3, 28800)          0         \n",
            " ributed)                                                        \n",
            "                                                                 \n",
            " gru (GRU)                   (None, 128)               11109120  \n",
            "                                                                 \n",
            " dense (Dense)               (None, 64)                8256      \n",
            "                                                                 \n",
            " dense_1 (Dense)             (None, 5)                 325       \n",
            "                                                                 \n",
            "=================================================================\n",
            "Total params: 11397893 (43.48 MB)\n",
            "Trainable params: 11397445 (43.48 MB)\n",
            "Non-trainable params: 448 (1.75 KB)\n",
            "_________________________________________________________________\n",
            "None\n"
          ]
        }
      ],
      "source": [
        "from tensorflow.keras.optimizers import Adam\n",
        "optimiser = Adam(learning_rate=0.001)#write your optimizer\n",
        "model.compile(optimizer=optimiser, loss='categorical_crossentropy', metrics=['categorical_accuracy'])\n",
        "print (model.summary())"
      ]
    },
    {
      "cell_type": "markdown",
      "metadata": {
        "id": "swpxlZGBlPdF"
      },
      "source": [
        "Let us create the `train_generator` and the `val_generator` which will be used in `.fit_generator`."
      ]
    },
    {
      "cell_type": "code",
      "execution_count": 16,
      "metadata": {
        "id": "cOvfZH4PlPdF"
      },
      "outputs": [],
      "source": [
        "train_generator = generator(train_path, train_doc, batch_size)\n",
        "val_generator = generator(val_path, val_doc, batch_size)"
      ]
    },
    {
      "cell_type": "code",
      "execution_count": 17,
      "metadata": {
        "colab": {
          "base_uri": "https://localhost:8080/"
        },
        "id": "_xntP1TPrcRD",
        "outputId": "1a144d68-6cc9-42a4-b305-34556859f0ed"
      },
      "outputs": [
        {
          "output_type": "stream",
          "name": "stderr",
          "text": [
            "WARNING:tensorflow:`period` argument is deprecated. Please use `save_freq` to specify the frequency in number of batches seen.\n"
          ]
        }
      ],
      "source": [
        "import os\n",
        "from tensorflow.keras.callbacks import ModelCheckpoint, ReduceLROnPlateau\n",
        "import datetime\n",
        "\n",
        "# Assuming curr_dt_time is defined as the current datetime for naming the model directory\n",
        "curr_dt_time = datetime.datetime.now()\n",
        "\n",
        "model_name = 'model_init' + '_' + str(curr_dt_time).replace(' ','').replace(':','_') + '/'\n",
        "\n",
        "if not os.path.exists(model_name):\n",
        "    os.mkdir(model_name)\n",
        "\n",
        "filepath = model_name + 'model-{epoch:05d}-{loss:.5f}-{categorical_accuracy:.5f}-{val_loss:.5f}-{val_categorical_accuracy:.5f}.h5'\n",
        "\n",
        "checkpoint = ModelCheckpoint(filepath, monitor='val_loss', verbose=1, save_best_only=False, save_weights_only=False, mode='auto', period=1)\n",
        "\n",
        "# Define ReduceLROnPlateau\n",
        "LR = ReduceLROnPlateau(monitor='val_loss', factor=0.1, patience=10, verbose=1, mode='auto', min_delta=0.0001, cooldown=0, min_lr=0)\n",
        "\n",
        "callbacks_list = [checkpoint, LR]\n"
      ]
    },
    {
      "cell_type": "markdown",
      "metadata": {
        "id": "2HhEmZQYlPdF"
      },
      "source": [
        "The `steps_per_epoch` and `validation_steps` are used by `fit_generator` to decide the number of next() calls it need to make."
      ]
    },
    {
      "cell_type": "code",
      "execution_count": 18,
      "metadata": {
        "id": "xHe7Nu8KlPdF"
      },
      "outputs": [],
      "source": [
        "if (num_train_sequences%batch_size) == 0:\n",
        "    steps_per_epoch = int(num_train_sequences/batch_size)\n",
        "else:\n",
        "    steps_per_epoch = (num_train_sequences//batch_size) + 1\n",
        "\n",
        "if (num_val_sequences%batch_size) == 0:\n",
        "    validation_steps = int(num_val_sequences/batch_size)\n",
        "else:\n",
        "    validation_steps = (num_val_sequences//batch_size) + 1"
      ]
    },
    {
      "cell_type": "markdown",
      "metadata": {
        "id": "xZLCyCGQlPdG"
      },
      "source": [
        "Let us now fit the model. This will start training the model and with the help of the checkpoints, you'll be able to save the model at the end of each epoch."
      ]
    },
    {
      "cell_type": "code",
      "execution_count": 19,
      "metadata": {
        "colab": {
          "base_uri": "https://localhost:8080/"
        },
        "id": "6wnoKN3olPdG",
        "outputId": "5d3df2bb-e268-473b-fda7-343bc5e944da"
      },
      "outputs": [
        {
          "output_type": "stream",
          "name": "stdout",
          "text": [
            "Source path =  /content/drive/MyDrive/Project_data/train ; batch size = 19\n",
            "Epoch 1/20\n",
            "35/35 [==============================] - ETA: 0s - loss: 1.5843 - categorical_accuracy: 0.2821  Source path =  /content/drive/MyDrive/Project_data/val ; batch size = 19\n",
            "\n",
            "Epoch 1: saving model to model_init_2024-03-3116_24_32.781725/model-00001-1.58434-0.28205-1.54521-0.27000.h5\n"
          ]
        },
        {
          "output_type": "stream",
          "name": "stderr",
          "text": [
            "/usr/local/lib/python3.10/dist-packages/keras/src/engine/training.py:3103: UserWarning: You are saving your model as an HDF5 file via `model.save()`. This file format is considered legacy. We recommend using instead the native Keras format, e.g. `model.save('my_model.keras')`.\n",
            "  saving_api.save_model(\n"
          ]
        },
        {
          "output_type": "stream",
          "name": "stdout",
          "text": [
            "\b\b\b\b\b\b\b\b\b\b\b\b\b\b\b\b\b\b\b\b\b\b\b\b\b\b\b\b\b\b\b\b\b\b\b\b\b\b\b\b\b\b\b\b\b\b\b\b\b\b\b\b\b\b\b\b\b\b\b\b\b\b\b\b\b\b\b\b\b\b\b\b\b\b\b\b\b\b\b\b\b\b\b\b\b\b\b\b\b\b\b\b\b\b\r35/35 [==============================] - 15179s 446s/step - loss: 1.5843 - categorical_accuracy: 0.2821 - val_loss: 1.5452 - val_categorical_accuracy: 0.2700 - lr: 0.0010\n",
            "Epoch 2/20\n",
            "35/35 [==============================] - ETA: 0s - loss: 1.3931 - categorical_accuracy: 0.3846\n",
            "Epoch 2: saving model to model_init_2024-03-3116_24_32.781725/model-00002-1.39313-0.38462-1.62035-0.31000.h5\n",
            "35/35 [==============================] - 225s 7s/step - loss: 1.3931 - categorical_accuracy: 0.3846 - val_loss: 1.6204 - val_categorical_accuracy: 0.3100 - lr: 0.0010\n",
            "Epoch 3/20\n",
            "35/35 [==============================] - ETA: 0s - loss: 1.2890 - categorical_accuracy: 0.4932\n",
            "Epoch 3: saving model to model_init_2024-03-3116_24_32.781725/model-00003-1.28896-0.49321-1.94364-0.27000.h5\n",
            "35/35 [==============================] - 214s 6s/step - loss: 1.2890 - categorical_accuracy: 0.4932 - val_loss: 1.9436 - val_categorical_accuracy: 0.2700 - lr: 0.0010\n",
            "Epoch 4/20\n",
            "35/35 [==============================] - ETA: 0s - loss: 1.3064 - categorical_accuracy: 0.4389\n",
            "Epoch 4: saving model to model_init_2024-03-3116_24_32.781725/model-00004-1.30641-0.43891-1.79914-0.28000.h5\n",
            "35/35 [==============================] - 202s 6s/step - loss: 1.3064 - categorical_accuracy: 0.4389 - val_loss: 1.7991 - val_categorical_accuracy: 0.2800 - lr: 0.0010\n",
            "Epoch 5/20\n",
            "35/35 [==============================] - ETA: 0s - loss: 1.2302 - categorical_accuracy: 0.5083\n",
            "Epoch 5: saving model to model_init_2024-03-3116_24_32.781725/model-00005-1.23020-0.50830-1.30619-0.43000.h5\n",
            "35/35 [==============================] - 199s 6s/step - loss: 1.2302 - categorical_accuracy: 0.5083 - val_loss: 1.3062 - val_categorical_accuracy: 0.4300 - lr: 0.0010\n",
            "Epoch 6/20\n",
            "35/35 [==============================] - ETA: 0s - loss: 1.1292 - categorical_accuracy: 0.5294\n",
            "Epoch 6: saving model to model_init_2024-03-3116_24_32.781725/model-00006-1.12924-0.52941-1.49321-0.36000.h5\n",
            "35/35 [==============================] - 192s 6s/step - loss: 1.1292 - categorical_accuracy: 0.5294 - val_loss: 1.4932 - val_categorical_accuracy: 0.3600 - lr: 0.0010\n",
            "Epoch 7/20\n",
            "35/35 [==============================] - ETA: 0s - loss: 1.0256 - categorical_accuracy: 0.5777\n",
            "Epoch 7: saving model to model_init_2024-03-3116_24_32.781725/model-00007-1.02555-0.57768-1.11632-0.58000.h5\n",
            "35/35 [==============================] - 202s 6s/step - loss: 1.0256 - categorical_accuracy: 0.5777 - val_loss: 1.1163 - val_categorical_accuracy: 0.5800 - lr: 0.0010\n",
            "Epoch 8/20\n",
            "35/35 [==============================] - ETA: 0s - loss: 1.0227 - categorical_accuracy: 0.5566\n",
            "Epoch 8: saving model to model_init_2024-03-3116_24_32.781725/model-00008-1.02266-0.55656-1.39616-0.47000.h5\n",
            "35/35 [==============================] - 199s 6s/step - loss: 1.0227 - categorical_accuracy: 0.5566 - val_loss: 1.3962 - val_categorical_accuracy: 0.4700 - lr: 0.0010\n",
            "Epoch 9/20\n",
            "35/35 [==============================] - ETA: 0s - loss: 0.8837 - categorical_accuracy: 0.6546\n",
            "Epoch 9: saving model to model_init_2024-03-3116_24_32.781725/model-00009-0.88373-0.65460-1.24820-0.46000.h5\n",
            "35/35 [==============================] - 197s 6s/step - loss: 0.8837 - categorical_accuracy: 0.6546 - val_loss: 1.2482 - val_categorical_accuracy: 0.4600 - lr: 0.0010\n",
            "Epoch 10/20\n",
            "35/35 [==============================] - ETA: 0s - loss: 0.8379 - categorical_accuracy: 0.6606\n",
            "Epoch 10: saving model to model_init_2024-03-3116_24_32.781725/model-00010-0.83793-0.66063-1.03456-0.60000.h5\n",
            "35/35 [==============================] - 197s 6s/step - loss: 0.8379 - categorical_accuracy: 0.6606 - val_loss: 1.0346 - val_categorical_accuracy: 0.6000 - lr: 0.0010\n",
            "Epoch 11/20\n",
            "35/35 [==============================] - ETA: 0s - loss: 0.8087 - categorical_accuracy: 0.6968\n",
            "Epoch 11: saving model to model_init_2024-03-3116_24_32.781725/model-00011-0.80867-0.69683-1.03652-0.61000.h5\n",
            "35/35 [==============================] - 196s 6s/step - loss: 0.8087 - categorical_accuracy: 0.6968 - val_loss: 1.0365 - val_categorical_accuracy: 0.6100 - lr: 0.0010\n",
            "Epoch 12/20\n",
            "35/35 [==============================] - ETA: 0s - loss: 0.7522 - categorical_accuracy: 0.7210\n",
            "Epoch 12: saving model to model_init_2024-03-3116_24_32.781725/model-00012-0.75218-0.72097-1.41242-0.40000.h5\n",
            "35/35 [==============================] - 193s 6s/step - loss: 0.7522 - categorical_accuracy: 0.7210 - val_loss: 1.4124 - val_categorical_accuracy: 0.4000 - lr: 0.0010\n",
            "Epoch 13/20\n",
            "35/35 [==============================] - ETA: 0s - loss: 0.7399 - categorical_accuracy: 0.7164\n",
            "Epoch 13: saving model to model_init_2024-03-3116_24_32.781725/model-00013-0.73992-0.71644-1.22607-0.49000.h5\n",
            "35/35 [==============================] - 200s 6s/step - loss: 0.7399 - categorical_accuracy: 0.7164 - val_loss: 1.2261 - val_categorical_accuracy: 0.4900 - lr: 0.0010\n",
            "Epoch 14/20\n",
            "35/35 [==============================] - ETA: 0s - loss: 0.6831 - categorical_accuracy: 0.7391\n",
            "Epoch 14: saving model to model_init_2024-03-3116_24_32.781725/model-00014-0.68306-0.73906-1.21187-0.56000.h5\n",
            "35/35 [==============================] - 195s 6s/step - loss: 0.6831 - categorical_accuracy: 0.7391 - val_loss: 1.2119 - val_categorical_accuracy: 0.5600 - lr: 0.0010\n",
            "Epoch 15/20\n",
            "35/35 [==============================] - ETA: 0s - loss: 0.5887 - categorical_accuracy: 0.7873\n",
            "Epoch 15: saving model to model_init_2024-03-3116_24_32.781725/model-00015-0.58870-0.78733-0.94190-0.66000.h5\n",
            "35/35 [==============================] - 194s 6s/step - loss: 0.5887 - categorical_accuracy: 0.7873 - val_loss: 0.9419 - val_categorical_accuracy: 0.6600 - lr: 0.0010\n",
            "Epoch 16/20\n",
            "35/35 [==============================] - ETA: 0s - loss: 0.5801 - categorical_accuracy: 0.7934\n",
            "Epoch 16: saving model to model_init_2024-03-3116_24_32.781725/model-00016-0.58009-0.79336-1.07577-0.59000.h5\n",
            "35/35 [==============================] - 197s 6s/step - loss: 0.5801 - categorical_accuracy: 0.7934 - val_loss: 1.0758 - val_categorical_accuracy: 0.5900 - lr: 0.0010\n",
            "Epoch 17/20\n",
            "35/35 [==============================] - ETA: 0s - loss: 0.6300 - categorical_accuracy: 0.7768\n",
            "Epoch 17: saving model to model_init_2024-03-3116_24_32.781725/model-00017-0.62998-0.77677-1.13809-0.55000.h5\n",
            "35/35 [==============================] - 195s 6s/step - loss: 0.6300 - categorical_accuracy: 0.7768 - val_loss: 1.1381 - val_categorical_accuracy: 0.5500 - lr: 0.0010\n",
            "Epoch 18/20\n",
            "35/35 [==============================] - ETA: 0s - loss: 0.5347 - categorical_accuracy: 0.8009\n",
            "Epoch 18: saving model to model_init_2024-03-3116_24_32.781725/model-00018-0.53465-0.80090-1.04472-0.69000.h5\n",
            "35/35 [==============================] - 190s 6s/step - loss: 0.5347 - categorical_accuracy: 0.8009 - val_loss: 1.0447 - val_categorical_accuracy: 0.6900 - lr: 0.0010\n",
            "Epoch 19/20\n",
            "35/35 [==============================] - ETA: 0s - loss: 0.5413 - categorical_accuracy: 0.7949\n",
            "Epoch 19: saving model to model_init_2024-03-3116_24_32.781725/model-00019-0.54133-0.79487-0.92494-0.70000.h5\n",
            "35/35 [==============================] - 200s 6s/step - loss: 0.5413 - categorical_accuracy: 0.7949 - val_loss: 0.9249 - val_categorical_accuracy: 0.7000 - lr: 0.0010\n",
            "Epoch 20/20\n",
            "35/35 [==============================] - ETA: 0s - loss: 0.5605 - categorical_accuracy: 0.7949\n",
            "Epoch 20: saving model to model_init_2024-03-3116_24_32.781725/model-00020-0.56047-0.79487-0.70516-0.73000.h5\n",
            "35/35 [==============================] - 195s 6s/step - loss: 0.5605 - categorical_accuracy: 0.7949 - val_loss: 0.7052 - val_categorical_accuracy: 0.7300 - lr: 0.0010\n"
          ]
        },
        {
          "output_type": "execute_result",
          "data": {
            "text/plain": [
              "<keras.src.callbacks.History at 0x79536bd757e0>"
            ]
          },
          "metadata": {},
          "execution_count": 19
        }
      ],
      "source": [
        "model.fit(train_generator, steps_per_epoch=steps_per_epoch, epochs=num_epochs, verbose=1,\n",
        "                    callbacks=callbacks_list, validation_data=val_generator,\n",
        "                    validation_steps=validation_steps, class_weight=None, workers=1, initial_epoch=0)"
      ]
    },
    {
      "cell_type": "code",
      "source": [],
      "metadata": {
        "id": "2PcJlRKKURmF"
      },
      "execution_count": null,
      "outputs": []
    }
  ],
  "metadata": {
    "colab": {
      "provenance": [],
      "machine_shape": "hm",
      "gpuType": "T4"
    },
    "kernelspec": {
      "display_name": "Python 3",
      "name": "python3"
    },
    "language_info": {
      "codemirror_mode": {
        "name": "ipython",
        "version": 3
      },
      "file_extension": ".py",
      "mimetype": "text/x-python",
      "name": "python",
      "nbconvert_exporter": "python",
      "pygments_lexer": "ipython3",
      "version": "3.6.5"
    },
    "accelerator": "GPU"
  },
  "nbformat": 4,
  "nbformat_minor": 0
}